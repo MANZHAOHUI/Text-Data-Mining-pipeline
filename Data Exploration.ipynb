{
 "cells": [
  {
   "cell_type": "code",
   "execution_count": 2,
   "metadata": {},
   "outputs": [],
   "source": [
    "import pandas as pd\n",
    "import numpy as np\n",
    "from collections import Counter\n",
    "import matplotlib.pyplot as plt\n",
    "from gensim import corpora\n",
    "import gensim\n",
    "import nltk\n",
    "from sklearn.feature_extraction.text import CountVectorizer"
   ]
  },
  {
   "cell_type": "markdown",
   "metadata": {},
   "source": [
    "# Download files, set up folder, put files into folder"
   ]
  },
  {
   "cell_type": "code",
   "execution_count": 2,
   "metadata": {},
   "outputs": [],
   "source": [
    "# training data: ../data/train.csv\n",
    "# test data:     ../data/test.csv"
   ]
  },
  {
   "cell_type": "markdown",
   "metadata": {},
   "source": [
    "# Load training data"
   ]
  },
  {
   "cell_type": "code",
   "execution_count": 4,
   "metadata": {},
   "outputs": [
    {
     "name": "stdout",
     "output_type": "stream",
     "text": [
      "training data size: 7239\n"
     ]
    }
   ],
   "source": [
    "filepath = 'C:/data/funnyHeadlines/train.csv'\n",
    "dataframe = pd.read_csv(filepath)\n",
    "print('training data size:', len(dataframe))\n",
    "# print(dataframe)"
   ]
  },
  {
   "cell_type": "markdown",
   "metadata": {},
   "source": [
    "# Count words"
   ]
  },
  {
   "cell_type": "code",
   "execution_count": 5,
   "metadata": {},
   "outputs": [],
   "source": [
    "# take out all title texts in a list\n",
    "titles = []\n",
    "for index, row in dataframe.iterrows():\n",
    "    title_text = row['original'].replace('<', '').replace('/>', '')\n",
    "    titles.append( title_text )"
   ]
  },
  {
   "cell_type": "code",
   "execution_count": 6,
   "metadata": {},
   "outputs": [
    {
     "name": "stdout",
     "output_type": "stream",
     "text": [
      "trump 2798\n",
      "to 2359\n",
      "' 2114\n",
      ", 1769\n",
      "the 1641\n",
      "in 1398\n",
      ": 1392\n",
      "of 1243\n",
      "'s 1158\n",
      "for 924\n",
      "on 910\n",
      "a 862\n",
      "is 749\n",
      "and 686\n",
      "’s 594\n",
      "with 553\n",
      "says 477\n",
      ". 435\n",
      "house 413\n",
      "’ 400\n",
      "‘ 367\n",
      "as 328\n",
      "at 326\n",
      "from 309\n",
      "donald 305\n",
      "us 303\n",
      "it 301\n",
      "after 299\n",
      "russia 289\n",
      "white 287\n",
      "new 287\n",
      "u.s. 257\n",
      "over 252\n",
      "that 241\n",
      "be 231\n",
      "his 230\n",
      "will 227\n",
      "? 226\n",
      "he 225\n",
      "not 225\n",
      "korea 223\n",
      "president 217\n",
      "gop 216\n",
      "\" 208\n",
      "by 206\n",
      "bill 206\n",
      "north 206\n",
      "about 202\n",
      "n't 193\n",
      "are 189\n",
      "was 183\n",
      "tax 179\n",
      "what 169\n",
      "russian 165\n",
      "more 160\n",
      "has 160\n",
      "democrats 158\n",
      "senate 157\n",
      "news 148\n",
      "who 147\n",
      "china 146\n",
      "how 146\n",
      "could 145\n",
      "mueller 142\n",
      "i 141\n",
      "say 140\n",
      "republicans 139\n",
      "report 139\n",
      "against 139\n",
      "state 138\n",
      "up 135\n",
      "have 135\n",
      "we 129\n",
      "plan 127\n",
      "out 124\n",
      "into 124\n",
      "may 123\n",
      "- 123\n",
      "back 122\n",
      "obama 121\n",
      "no 120\n",
      "but 118\n",
      "— 117\n",
      "an 115\n",
      "election 114\n",
      "health 114\n",
      "obamacare 113\n",
      "clinton 111\n",
      "do 111\n",
      "you 109\n",
      "syria 108\n",
      "if 108\n",
      "just 106\n",
      "first 105\n",
      "get 105\n",
      "government 105\n",
      "ban 105\n",
      "deal 104\n",
      "$ 102\n",
      "fbi 99\n"
     ]
    }
   ],
   "source": [
    "# keep a counter of word frequency\n",
    "counter = Counter()\n",
    "for title in titles:\n",
    "    counter.update(title.strip().lower().split())\n",
    "\n",
    "# sort words by frequency from high to low\n",
    "for word, count in sorted(counter.items(), key = lambda x: x[1], reverse = True)[:100]:\n",
    "    print (word, count)"
   ]
  },
  {
   "cell_type": "markdown",
   "metadata": {},
   "source": [
    "# News title length distribution"
   ]
  },
  {
   "cell_type": "code",
   "execution_count": 7,
   "metadata": {},
   "outputs": [
    {
     "name": "stdout",
     "output_type": "stream",
     "text": [
      "document length average: 12.2403646913\n",
      "document length standard deviation: 3.67625049674\n"
     ]
    }
   ],
   "source": [
    "# keep a list of title lengths (title length = # of tokens in title)\n",
    "length_array = []\n",
    "for title in titles:\n",
    "    length_array.append( len(title.strip().lower().split()) )\n",
    "print ('document length average:', np.mean(length_array))\n",
    "print ('document length standard deviation:', np.std(length_array))"
   ]
  },
  {
   "cell_type": "code",
   "execution_count": 8,
   "metadata": {},
   "outputs": [
    {
     "data": {
      "image/png": "[encoded data removed]",
      "text/plain": [
       "<Figure size 432x288 with 1 Axes>"
      ]
     },
     "metadata": {
      "needs_background": "light"
     },
     "output_type": "display_data"
    }
   ],
   "source": [
    "num_bins = 50\n",
    "n, bins, patches = plt.hist(length_array, num_bins, facecolor='blue', alpha=0.5)\n",
    "plt.show()"
   ]
  },
  {
   "cell_type": "markdown",
   "metadata": {},
   "source": [
    "# Topic modeling"
   ]
  },
  {
   "cell_type": "code",
   "execution_count": 8,
   "metadata": {},
   "outputs": [],
   "source": [
    "# adapted from: https://towardsdatascience.com/topic-modelling-in-python-with-nltk-and-gensim-4ef03213cd21"
   ]
  },
  {
   "cell_type": "code",
   "execution_count": 9,
   "metadata": {},
   "outputs": [
    {
     "name": "stderr",
     "output_type": "stream",
     "text": [
      "[nltk_data] Downloading package stopwords to\n",
      "[nltk_data]     C:\\Users\\manzh\\AppData\\Roaming\\nltk_data...\n",
      "[nltk_data]   Package stopwords is already up-to-date!\n"
     ]
    }
   ],
   "source": [
    "nltk.download('stopwords')\n",
    "en_stop = set(nltk.corpus.stopwords.words('english'))"
   ]
  },
  {
   "cell_type": "code",
   "execution_count": 10,
   "metadata": {},
   "outputs": [],
   "source": [
    "# process a text string into a list of tokens\n",
    "\n",
    "def prepare_text_for_lda(text):\n",
    "    # convert all words into lower case, split by white space\n",
    "    tokens = text.strip().lower().split()\n",
    "    \n",
    "    #  remove words with 1 or 2 letters (small words, punctuation)\n",
    "    tokens = [token for token in tokens if len(token) > 2]\n",
    "    \n",
    "    # remove English stopwords (as defined by NLTK)\n",
    "    tokens = [token for token in tokens if token not in en_stop]\n",
    "    return tokens"
   ]
  },
  {
   "cell_type": "code",
   "execution_count": 11,
   "metadata": {},
   "outputs": [],
   "source": [
    "# convert the corpus into a sparse matrix format for gensim\n",
    "\n",
    "text_data = []\n",
    "for title in titles:\n",
    "    title = prepare_text_for_lda(title)\n",
    "    text_data.append(title)\n",
    "            \n",
    "dictionary = corpora.Dictionary(text_data)\n",
    "corpus = [dictionary.doc2bow(text) for text in text_data]"
   ]
  },
  {
   "cell_type": "code",
   "execution_count": 12,
   "metadata": {},
   "outputs": [
    {
     "name": "stdout",
     "output_type": "stream",
     "text": [
      "(0, '0.039*\"trump\" + 0.015*\"comey\" + 0.014*\"house\" + 0.012*\"fbi\" + 0.011*\"white\"')\n",
      "(1, '0.030*\"trump\" + 0.026*\"korea\" + 0.024*\"north\" + 0.015*\"says\" + 0.011*\"missile\"')\n",
      "(2, '0.017*\"house\" + 0.012*\"trump\" + 0.009*\"white\" + 0.007*\"gop\" + 0.006*\"take\"')\n",
      "(3, '0.022*\"trump\" + 0.009*\"new\" + 0.007*\"time\" + 0.006*\"police\" + 0.006*\"say\"')\n",
      "(4, '0.070*\"trump\" + 0.010*\"says\" + 0.010*\"clinton\" + 0.009*\"president\" + 0.009*\"north\"')\n",
      "(5, '0.070*\"trump\" + 0.011*\"donald\" + 0.011*\"house\" + 0.008*\"moore\" + 0.007*\"white\"')\n",
      "(6, '0.051*\"trump\" + 0.015*\"health\" + 0.014*\"syria\" + 0.014*\"u.s.\" + 0.010*\"says\"')\n",
      "(7, '0.042*\"trump\" + 0.021*\"house\" + 0.017*\"white\" + 0.010*\"people\" + 0.009*\"new\"')\n",
      "(8, '0.043*\"trump\" + 0.012*\"donald\" + 0.009*\"security\" + 0.008*\"says\" + 0.007*\"national\"')\n",
      "(9, '0.038*\"trump\" + 0.014*\"russia\" + 0.009*\"ban\" + 0.007*\"mueller\" + 0.007*\"travel\"')\n"
     ]
    }
   ],
   "source": [
    "# train latent Dirichlet topic model\n",
    "\n",
    "NUM_TOPICS = 10\n",
    "ldamodel = gensim.models.ldamodel.LdaModel(corpus, num_topics = NUM_TOPICS, id2word=dictionary, passes=15)\n",
    "\n",
    "topics = ldamodel.print_topics(num_words=5)\n",
    "for topic in topics:\n",
    "    print(topic)"
   ]
  },
  {
   "cell_type": "code",
   "execution_count": 13,
   "metadata": {},
   "outputs": [
    {
     "name": "stdout",
     "output_type": "stream",
     "text": [
      "topic distribution:\n",
      " [(0, 0.020001709), (1, 0.49798885), (2, 0.020001905), (3, 0.020002229), (4, 0.020003356), (5, 0.020001369), (6, 0.3419964), (7, 0.020001665), (8, 0.020000357), (9, 0.020002114)]\n"
     ]
    }
   ],
   "source": [
    "# predict topic distribution of a new title\n",
    "new_doc = 'North Korea Health Bill'\n",
    "new_doc = prepare_text_for_lda(new_doc)\n",
    "new_doc_bow = dictionary.doc2bow(new_doc)\n",
    "predicted_topics = ldamodel.get_document_topics(new_doc_bow)\n",
    "print('topic distribution:\\n', predicted_topics)\n",
    "# print('topic distribution shoulld sum up to 1:', sum([v for k, v in predicted_topics]))"
   ]
  },
  {
   "cell_type": "markdown",
   "metadata": {},
   "source": [
    "# meanGrade Distribution "
   ]
  },
  {
   "cell_type": "code",
   "execution_count": 14,
   "metadata": {},
   "outputs": [],
   "source": [
    "meanGrade = dataframe['meanGrade'].tolist()"
   ]
  },
  {
   "cell_type": "code",
   "execution_count": 15,
   "metadata": {},
   "outputs": [
    {
     "name": "stdout",
     "output_type": "stream",
     "text": [
      "meanGrade average: 0.9380485334070082\n",
      "meanGrade standard deviation: 0.5862861999031851\n"
     ]
    }
   ],
   "source": [
    "print ('meanGrade average:', np.mean(meanGrade))\n",
    "print ('meanGrade standard deviation:', np.std(meanGrade))"
   ]
  },
  {
   "cell_type": "code",
   "execution_count": 16,
   "metadata": {},
   "outputs": [
    {
     "data": {
      "image/png": "[encoded data removed]",
      "text/plain": [
       "<Figure size 432x288 with 1 Axes>"
      ]
     },
     "metadata": {
      "needs_background": "light"
     },
     "output_type": "display_data"
    }
   ],
   "source": [
    "num_bins = 50\n",
    "n, bins, patches = plt.hist(meanGrade, num_bins, facecolor='green', alpha=0.5)\n",
    "plt.show()"
   ]
  },
  {
   "cell_type": "code",
   "execution_count": null,
   "metadata": {},
   "outputs": [],
   "source": []
  }
 ],
 "metadata": {
  "kernelspec": {
   "display_name": "Python 3",
   "language": "python",
   "name": "python3"
  },
  "language_info": {
   "codemirror_mode": {
    "name": "ipython",
    "version": 3
   },
   "file_extension": ".py",
   "mimetype": "text/x-python",
   "name": "python",
   "nbconvert_exporter": "python",
   "pygments_lexer": "ipython3",
   "version": "3.6.7"
  }
 },
 "nbformat": 4,
 "nbformat_minor": 2
}
