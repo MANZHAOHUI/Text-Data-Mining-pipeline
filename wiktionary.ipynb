{
 "cells": [
  {
   "cell_type": "code",
   "execution_count": 135,
   "metadata": {},
   "outputs": [],
   "source": [
    "#load all libraries\n",
    "import numpy as np\n",
    "import pandas as pd\n",
    "import re\n",
    "import nltk\n",
    "from nltk.corpus import stopwords\n",
    "import spacy\n",
    "import string\n",
    "import heapq\n",
    "from pandas import Series,DataFrame\n"
   ]
  },
  {
   "cell_type": "code",
   "execution_count": 198,
   "metadata": {},
   "outputs": [],
   "source": [
    "#read the list\n",
    "\n",
    "filepath='C:/data/690/enwiktionary.a.list'\n",
    "lineList = [line.rstrip('\\n') for line in open(filepath)]\n"
   ]
  },
  {
   "cell_type": "code",
   "execution_count": 156,
   "metadata": {},
   "outputs": [
    {
     "data": {
      "text/plain": [
       "302794"
      ]
     },
     "execution_count": 156,
     "metadata": {},
     "output_type": "execute_result"
    }
   ],
   "source": [
    "#drop duplicates\n",
    "\n",
    "lineList=np.unique(lineList)\n",
    "len(lineList)"
   ]
  },
  {
   "cell_type": "code",
   "execution_count": 137,
   "metadata": {},
   "outputs": [],
   "source": [
    "target=['abreviation', 'abstrictiveness', 'accanthopterigious', 'artifitial inteligwnse', 'agglumetation']"
   ]
  },
  {
   "cell_type": "code",
   "execution_count": 138,
   "metadata": {},
   "outputs": [],
   "source": [
    "#calculate Jaccard Score\n",
    "def jaccard(a,b):\n",
    "#     a=a.split()\n",
    "#     b=a.split()\n",
    "    union = list(set(a+b))\n",
    "    intersection = list(set(a) - (set(a)-set(b)))\n",
    "#     print (\"Union - %s\" % union)\n",
    "#     print (\"Intersection - %s\" % intersection)\n",
    "    jaccard_score = float(len(intersection))/len(union)\n",
    "#     print (\"Jaccard Score is = %f \" % jaccard_score)\n",
    "    return jaccard_score"
   ]
  },
  {
   "cell_type": "code",
   "execution_count": 139,
   "metadata": {},
   "outputs": [
    {
     "data": {
      "text/plain": [
       "0.2"
      ]
     },
     "execution_count": 139,
     "metadata": {},
     "output_type": "execute_result"
    }
   ],
   "source": [
    "jaccard(target[3], lineList[4])"
   ]
  },
  {
   "cell_type": "code",
   "execution_count": 143,
   "metadata": {},
   "outputs": [],
   "source": [
    "def find_bigrams(input_list):\n",
    "    bigram_list = []\n",
    "    for i in range(len(input_list)-1):\n",
    "        bigram_list.append((input_list[i]+input_list[i+1]))\n",
    "    return bigram_list\n",
    "find_bigrams(input_list)\n",
    "\n",
    "def find_bigrams(input_list):\n",
    "    return zip(input_list, input_list[1:])\n",
    "# Bigrams\n",
    "zip(input_list, input_list[1:])\n",
    "# Trigrams\n",
    "zip(input_list, input_list[1:], input_list[2:])\n",
    "# and so on\n",
    "zip(input_list, input_list[1:], input_list[2:], input_list[3:])\n",
    "\n",
    "def find_ngrams(input_list, n):\n",
    "    return zip(*[input_list[i:] for i in range(n)])\n",
    "\n",
    "def transform (input_list, n):\n",
    "    z=list(find_ngrams(input_list, n))\n",
    "    \n",
    "    f_ngram=[]\n",
    "    for i in range(len(z)):\n",
    "        ww=','.join(z[i]) \n",
    "        www=ww.replace(',','')\n",
    "        f_ngram.append(www)\n",
    "    return f_ngram"
   ]
  },
  {
   "cell_type": "code",
   "execution_count": 192,
   "metadata": {},
   "outputs": [],
   "source": [
    "def top10_ngram (n):\n",
    "    target_n_top10=[]\n",
    "    for i in range(len(target)):\n",
    "        targetI_all={}\n",
    "        for j in range(len(lineList)):\n",
    "            \n",
    "            a=transform(target[i], n)\n",
    "            b=transform(lineList[j], n)\n",
    "            s=jaccard(a,b)\n",
    "#             print (s)\n",
    "            targetI_all[j]=s\n",
    "            s=0.0\n",
    "#         print (target_i_top10)\n",
    "        topNum = 10\n",
    "        targetI_top10 = heapq.nlargest(topNum, targetI_all.values())\n",
    "        \n",
    "\n",
    "        keyall=[]    \n",
    "        for value in targetI_top10:                                     \n",
    "            for key in targetI_all:\n",
    "                if round(targetI_all[key], 16) == round(value,16):\n",
    "                    keyall.append(key)\n",
    "        \n",
    "        nu=np.unique(keyall)\n",
    "        wordsI_top10=[]\n",
    "        for l in range(10):\n",
    "            w=nu[l]\n",
    "            wordsI_top10.append(lineList[w])\n",
    "        target_n_top10.append(wordsI_top10)\n",
    "            \n",
    "            \n",
    "    return target_n_top10\n",
    "\n"
   ]
  },
  {
   "cell_type": "code",
   "execution_count": 197,
   "metadata": {},
   "outputs": [],
   "source": [
    "import editdistance\n",
    "def top10ED():\n",
    "    \n",
    "    target_n_top10=[]\n",
    "    for i in range(len(target)):\n",
    "        targetI_all={}\n",
    "        for j in range(len(lineList)):\n",
    "            \n",
    "            a=target[i]\n",
    "            b=lineList[j]\n",
    "            s=editdistance.eval(a,b)\n",
    "#             print (s)\n",
    "            targetI_all[j]=s\n",
    "            s=0.0\n",
    "#         print (target_i_top10)\n",
    "        topNum = 10\n",
    "        targetI_top10 = heapq.nlargest(topNum, targetI_all.values())\n",
    "        \n",
    "\n",
    "        keyall=[]    \n",
    "        for value in targetI_top10:                                     \n",
    "            for key in targetI_all:\n",
    "                if round(targetI_all[key], 16) == round(value,16):\n",
    "                    keyall.append(key)\n",
    "        \n",
    "        nu=np.unique(keyall)\n",
    "        wordsI_top10=[]\n",
    "        for l in range(10):\n",
    "            w=nu[l]\n",
    "            wordsI_top10.append(lineList[w])\n",
    "        target_n_top10.append(wordsI_top10)\n",
    "            \n",
    "            \n",
    "    return target_n_top10\n",
    "\n"
   ]
  },
  {
   "cell_type": "code",
   "execution_count": 195,
   "metadata": {},
   "outputs": [
    {
     "data": {
      "text/html": [
       "<div>\n",
       "<style scoped>\n",
       "    .dataframe tbody tr th:only-of-type {\n",
       "        vertical-align: middle;\n",
       "    }\n",
       "\n",
       "    .dataframe tbody tr th {\n",
       "        vertical-align: top;\n",
       "    }\n",
       "\n",
       "    .dataframe thead th {\n",
       "        text-align: right;\n",
       "    }\n",
       "</style>\n",
       "<table border=\"1\" class=\"dataframe\">\n",
       "  <thead>\n",
       "    <tr style=\"text-align: right;\">\n",
       "      <th></th>\n",
       "      <th>jccard_2-gram</th>\n",
       "      <th>jccard_3-gram</th>\n",
       "      <th>jccard_4-gram</th>\n",
       "      <th>jccard_5-gram</th>\n",
       "      <th>edit_distance</th>\n",
       "    </tr>\n",
       "  </thead>\n",
       "  <tbody>\n",
       "    <tr>\n",
       "      <th>abreviation</th>\n",
       "      <td>[abbreviation, abbreviatio, abbreviations, abb...</td>\n",
       "      <td>[abbreviation, abbreviatio, abbreviations, abb...</td>\n",
       "      <td>[abbreviation, abbreviatio, abbreviations, abb...</td>\n",
       "      <td>[abbreviation, abbreviatio, abbreviations, abb...</td>\n",
       "      <td>[american standard code for information interc...</td>\n",
       "    </tr>\n",
       "    <tr>\n",
       "      <th>abstrictiveness</th>\n",
       "      <td>[absorptiveness, abstersiveness, abstractive, ...</td>\n",
       "      <td>[abstractiveness, abstrict, activeness, abstri...</td>\n",
       "      <td>[abstractiveness, abstrict, activeness, abstri...</td>\n",
       "      <td>[abstractiveness, abstrict, activeness, abstri...</td>\n",
       "      <td>[american standard code for information interc...</td>\n",
       "    </tr>\n",
       "    <tr>\n",
       "      <th>accanthopterigious</th>\n",
       "      <td>[acanthopodious, acanthopterous, acanthopteryg...</td>\n",
       "      <td>[acanthopterous, acanthopterygian, acanthopter...</td>\n",
       "      <td>[acanthopterous, acanthopterygian, acanthopter...</td>\n",
       "      <td>[acanthopterous, acanthopterygian, acanthopter...</td>\n",
       "      <td>[american standard code for information interc...</td>\n",
       "    </tr>\n",
       "    <tr>\n",
       "      <th>artifitial inteligwnse</th>\n",
       "      <td>[artificial intelligence, artificiality, artif...</td>\n",
       "      <td>[artificial, artificial intelligence, artifici...</td>\n",
       "      <td>[artificial intelligence, artifiko, artifice, ...</td>\n",
       "      <td>[artificial intelligence, artifiko, artifice, ...</td>\n",
       "      <td>[american standard code for information interc...</td>\n",
       "    </tr>\n",
       "    <tr>\n",
       "      <th>agglumetation</th>\n",
       "      <td>[agglomeration, agglutination, agglomerations,...</td>\n",
       "      <td>[agglutination, agglutinations, arietationes, ...</td>\n",
       "      <td>[agglutination, agglutinations, arietationes, ...</td>\n",
       "      <td>[agitation, agitation, arietatio, arietationes...</td>\n",
       "      <td>[american standard code for information interc...</td>\n",
       "    </tr>\n",
       "  </tbody>\n",
       "</table>\n",
       "</div>"
      ],
      "text/plain": [
       "                                                            jccard_2-gram  \\\n",
       "abreviation             [abbreviation, abbreviatio, abbreviations, abb...   \n",
       "abstrictiveness         [absorptiveness, abstersiveness, abstractive, ...   \n",
       "accanthopterigious      [acanthopodious, acanthopterous, acanthopteryg...   \n",
       "artifitial inteligwnse  [artificial intelligence, artificiality, artif...   \n",
       "agglumetation           [agglomeration, agglutination, agglomerations,...   \n",
       "\n",
       "                                                            jccard_3-gram  \\\n",
       "abreviation             [abbreviation, abbreviatio, abbreviations, abb...   \n",
       "abstrictiveness         [abstractiveness, abstrict, activeness, abstri...   \n",
       "accanthopterigious      [acanthopterous, acanthopterygian, acanthopter...   \n",
       "artifitial inteligwnse  [artificial, artificial intelligence, artifici...   \n",
       "agglumetation           [agglutination, agglutinations, arietationes, ...   \n",
       "\n",
       "                                                            jccard_4-gram  \\\n",
       "abreviation             [abbreviation, abbreviatio, abbreviations, abb...   \n",
       "abstrictiveness         [abstractiveness, abstrict, activeness, abstri...   \n",
       "accanthopterigious      [acanthopterous, acanthopterygian, acanthopter...   \n",
       "artifitial inteligwnse  [artificial intelligence, artifiko, artifice, ...   \n",
       "agglumetation           [agglutination, agglutinations, arietationes, ...   \n",
       "\n",
       "                                                            jccard_5-gram  \\\n",
       "abreviation             [abbreviation, abbreviatio, abbreviations, abb...   \n",
       "abstrictiveness         [abstractiveness, abstrict, activeness, abstri...   \n",
       "accanthopterigious      [acanthopterous, acanthopterygian, acanthopter...   \n",
       "artifitial inteligwnse  [artificial intelligence, artifiko, artifice, ...   \n",
       "agglumetation           [agitation, agitation, arietatio, arietationes...   \n",
       "\n",
       "                                                            edit_distance  \n",
       "abreviation             [american standard code for information interc...  \n",
       "abstrictiveness         [american standard code for information interc...  \n",
       "accanthopterigious      [american standard code for information interc...  \n",
       "artifitial inteligwnse  [american standard code for information interc...  \n",
       "agglumetation           [american standard code for information interc...  "
      ]
     },
     "execution_count": 195,
     "metadata": {},
     "output_type": "execute_result"
    }
   ],
   "source": [
    "target_2_top10=top10_ngram(2)\n",
    "target_3_top10=top10_ngram(3)\n",
    "target_4_top10=top10_ngram(4)\n",
    "target_5_top10=top10_ngram(5)\n",
    "target_ed_top10=top10ED()\n",
    "\n",
    "\n",
    "index=target\n",
    "index\n",
    "df=pd.DataFrame(columns=['jccard_2-gram', 'jccard_3-gram', 'jccard_4-gram', 'jccard_5-gram', 'edit_distance'], index=index)\n",
    "df['jccard_2-gram']=target_2_top10\n",
    "df['jccard_3-gram']=target_3_top10\n",
    "df['jccard_4-gram']=target_4_top10\n",
    "df['jccard_5-gram']=target_5_top10\n",
    "df['edit_distance']=target_ed_top10\n"
   ]
  },
  {
   "cell_type": "code",
   "execution_count": 201,
   "metadata": {},
   "outputs": [],
   "source": [
    "df.to_excel(\"C:/data/690/zhaohui_690_assignment1_Q2.xlsx\")"
   ]
  }
 ],
 "metadata": {
  "kernelspec": {
   "display_name": "Python 3",
   "language": "python",
   "name": "python3"
  },
  "language_info": {
   "codemirror_mode": {
    "name": "ipython",
    "version": 3
   },
   "file_extension": ".py",
   "mimetype": "text/x-python",
   "name": "python",
   "nbconvert_exporter": "python",
   "pygments_lexer": "ipython3",
   "version": "3.6.7"
  }
 },
 "nbformat": 4,
 "nbformat_minor": 2
}
